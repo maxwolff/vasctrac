{
 "cells": [
  {
   "cell_type": "code",
   "execution_count": 5,
   "metadata": {
    "collapsed": false,
    "deletable": true,
    "editable": true
   },
   "outputs": [],
   "source": [
    "import pandas as pd\n",
    "a = pd.read_csv(\"adaptiv/sensorData/movedAccel.csv\")\n",
    "o = pd.read_csv(\"adaptiv/sensorData/myAccel.csv\")"
   ]
  },
  {
   "cell_type": "code",
   "execution_count": 9,
   "metadata": {
    "collapsed": false,
    "deletable": true,
    "editable": true
   },
   "outputs": [
    {
     "data": {
      "text/html": [
       "<div>\n",
       "<table border=\"1\" class=\"dataframe\">\n",
       "  <thead>\n",
       "    <tr style=\"text-align: right;\">\n",
       "      <th></th>\n",
       "      <th>875277770996</th>\n",
       "      <th>-0.96929931640625</th>\n",
       "      <th>2.443267822265625</th>\n",
       "      <th>9.439239501953125</th>\n",
       "    </tr>\n",
       "  </thead>\n",
       "  <tbody>\n",
       "    <tr>\n",
       "      <th>0</th>\n",
       "      <td>875297698974</td>\n",
       "      <td>-0.869324</td>\n",
       "      <td>2.519440</td>\n",
       "      <td>9.225006</td>\n",
       "    </tr>\n",
       "    <tr>\n",
       "      <th>1</th>\n",
       "      <td>875317596435</td>\n",
       "      <td>-1.131165</td>\n",
       "      <td>2.443268</td>\n",
       "      <td>8.851288</td>\n",
       "    </tr>\n",
       "    <tr>\n",
       "      <th>2</th>\n",
       "      <td>875337493896</td>\n",
       "      <td>-1.381104</td>\n",
       "      <td>2.205231</td>\n",
       "      <td>9.079803</td>\n",
       "    </tr>\n",
       "    <tr>\n",
       "      <th>3</th>\n",
       "      <td>875357421875</td>\n",
       "      <td>-1.612000</td>\n",
       "      <td>2.188568</td>\n",
       "      <td>8.896515</td>\n",
       "    </tr>\n",
       "    <tr>\n",
       "      <th>4</th>\n",
       "      <td>875377319335</td>\n",
       "      <td>-1.416809</td>\n",
       "      <td>2.252838</td>\n",
       "      <td>9.201202</td>\n",
       "    </tr>\n",
       "  </tbody>\n",
       "</table>\n",
       "</div>"
      ],
      "text/plain": [
       "   875277770996  -0.96929931640625  2.443267822265625  9.439239501953125\n",
       "0  875297698974          -0.869324           2.519440           9.225006\n",
       "1  875317596435          -1.131165           2.443268           8.851288\n",
       "2  875337493896          -1.381104           2.205231           9.079803\n",
       "3  875357421875          -1.612000           2.188568           8.896515\n",
       "4  875377319335          -1.416809           2.252838           9.201202"
      ]
     },
     "execution_count": 9,
     "metadata": {},
     "output_type": "execute_result"
    }
   ],
   "source": [
    "a.head()\n"
   ]
  },
  {
   "cell_type": "code",
   "execution_count": 28,
   "metadata": {
    "collapsed": false
   },
   "outputs": [
    {
     "data": {
      "text/html": [
       "<div>\n",
       "<table border=\"1\" class=\"dataframe\">\n",
       "  <thead>\n",
       "    <tr style=\"text-align: right;\">\n",
       "      <th></th>\n",
       "      <th>Timestamp</th>\n",
       "      <th>x</th>\n",
       "      <th>y</th>\n",
       "      <th>z</th>\n",
       "    </tr>\n",
       "  </thead>\n",
       "  <tbody>\n",
       "    <tr>\n",
       "      <th>0</th>\n",
       "      <td>0.061</td>\n",
       "      <td>0.0690</td>\n",
       "      <td>-0.8802</td>\n",
       "      <td>0.4772</td>\n",
       "    </tr>\n",
       "    <tr>\n",
       "      <th>1</th>\n",
       "      <td>0.071</td>\n",
       "      <td>0.0745</td>\n",
       "      <td>-0.8810</td>\n",
       "      <td>0.4806</td>\n",
       "    </tr>\n",
       "    <tr>\n",
       "      <th>2</th>\n",
       "      <td>0.081</td>\n",
       "      <td>0.0929</td>\n",
       "      <td>-0.8681</td>\n",
       "      <td>0.4749</td>\n",
       "    </tr>\n",
       "    <tr>\n",
       "      <th>3</th>\n",
       "      <td>0.091</td>\n",
       "      <td>0.1138</td>\n",
       "      <td>-0.8611</td>\n",
       "      <td>0.4761</td>\n",
       "    </tr>\n",
       "    <tr>\n",
       "      <th>4</th>\n",
       "      <td>0.101</td>\n",
       "      <td>0.1146</td>\n",
       "      <td>-0.8602</td>\n",
       "      <td>0.4748</td>\n",
       "    </tr>\n",
       "  </tbody>\n",
       "</table>\n",
       "</div>"
      ],
      "text/plain": [
       "   Timestamp       x       y       z\n",
       "0      0.061  0.0690 -0.8802  0.4772\n",
       "1      0.071  0.0745 -0.8810  0.4806\n",
       "2      0.081  0.0929 -0.8681  0.4749\n",
       "3      0.091  0.1138 -0.8611  0.4761\n",
       "4      0.101  0.1146 -0.8602  0.4748"
      ]
     },
     "execution_count": 28,
     "metadata": {},
     "output_type": "execute_result"
    }
   ],
   "source": [
    "o.head()"
   ]
  },
  {
   "cell_type": "code",
   "execution_count": 15,
   "metadata": {
    "collapsed": true
   },
   "outputs": [],
   "source": [
    "a.columns = ['timestamp','x','y','z']"
   ]
  },
  {
   "cell_type": "code",
   "execution_count": 26,
   "metadata": {
    "collapsed": false
   },
   "outputs": [
    {
     "data": {
      "text/plain": [
       "-19897461"
      ]
     },
     "execution_count": 26,
     "metadata": {},
     "output_type": "execute_result"
    }
   ],
   "source": [
    "a['timestamp'][0] - a['timestamp'][1]"
   ]
  },
  {
   "cell_type": "code",
   "execution_count": null,
   "metadata": {
    "collapsed": true
   },
   "outputs": [],
   "source": [
    "# adaptive x mean "
   ]
  }
 ],
 "metadata": {
  "kernelspec": {
   "display_name": "Python 2",
   "language": "python",
   "name": "python2"
  },
  "language_info": {
   "codemirror_mode": {
    "name": "ipython",
    "version": 2
   },
   "file_extension": ".py",
   "mimetype": "text/x-python",
   "name": "python",
   "nbconvert_exporter": "python",
   "pygments_lexer": "ipython2",
   "version": "2.7.12"
  }
 },
 "nbformat": 4,
 "nbformat_minor": 2
}
